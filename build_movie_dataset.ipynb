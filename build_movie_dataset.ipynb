{
 "cells": [
  {
   "cell_type": "markdown",
   "metadata": {},
   "source": [
    "* Importando os pecotess necessários"
   ]
  },
  {
   "cell_type": "code",
   "execution_count": 60,
   "metadata": {},
   "outputs": [],
   "source": [
    "import urllib, urllib.error\n",
    "from functions import save_in_database\n",
    "from urllib import parse\n",
    "import json\n",
    "import requests\n",
    "import sqlite3\n",
    "import pandas as pd"
   ]
  },
  {
   "cell_type": "markdown",
   "metadata": {},
   "source": [
    "* Define uma função que recebe um dicionário JSON e imprime informações específicas desse dicionário, desde que essas informações correspondam às chaves especificadas na lista list_keys. Ele cria uma apresentação organizada das informações do filme, separadas por hifens, para facilitar a leitura e compreensão."
   ]
  },
  {
   "cell_type": "code",
   "execution_count": 61,
   "metadata": {},
   "outputs": [],
   "source": [
    "def print_json(json_data):\n",
    "    list_keys=['Title', 'Year', 'Rated', 'Released', 'Runtime', 'Genre', 'Director', 'Writer', \n",
    "               'Actors', 'Plot', 'Language', 'Country', 'Awards',\n",
    "               'Metascore', 'imdbRating', 'imdbVotes', 'imdbID']\n",
    "    print(\"-\"*50)\n",
    "    for i in list_keys:\n",
    "        if i in list(json_data.keys()):\n",
    "            print(f\"{i}: {json_data[i]}\")\n",
    "    print(\"-\"*50)"
   ]
  },
  {
   "cell_type": "code",
   "execution_count": 62,
   "metadata": {},
   "outputs": [],
   "source": [
    "def search_movie(title):\n",
    "    if len(title) < 1 or title=='quit': \n",
    "        print(\"Não encontrado...\")\n",
    "        return \n",
    "\n",
    "    try:\n",
    "        title_url = parse.urlencode({'t': title})\n",
    "        api_key = '9019e34'\n",
    "        url = f'http://www.omdbapi.com/?{title_url}&apikey={api_key}'\n",
    "        print(f'Procurando o filme \"{title}\"... ')\n",
    "        uh = urllib.request.urlopen(url)\n",
    "        data = uh.read()\n",
    "        json_data=json.loads(data)\n",
    "        \n",
    "        if json_data['Response']=='True':\n",
    "            print_json(json_data)\n",
    "            save_database =input('Salvar o filme no banco de dados? Digite \"sim\" ou \"não\": ').lower()\n",
    "            if save_database =='sim':\n",
    "                save_in_database(json_data)\n",
    "        else:\n",
    "            print(\"Erro encontrado: \",json_data['Erro'])\n",
    "    \n",
    "    except urllib.error.URLError as e:\n",
    "        print(f\"ERROR: {e.reason}\")"
   ]
  },
  {
   "cell_type": "code",
   "execution_count": 63,
   "metadata": {},
   "outputs": [],
   "source": [
    "def save_in_database(movie_data):\n",
    "    conn = sqlite3.connect('info_movie.sqlite')\n",
    "    cur=conn.cursor()\n",
    "\n",
    "    cur.execute ('''CREATE TABLE IF NOT EXISTS filmes (\n",
    "        title TEXT,\n",
    "        year INTEGER,\n",
    "        rated TEXT,\n",
    "        released TEXT,\n",
    "        runtime TEXT,\n",
    "        genre TEXT,\n",
    "        director TEXT,\n",
    "        writer TEXT,\n",
    "        actors TEXT,\n",
    "        plot TEXT,\n",
    "        language TEXT,\n",
    "        country TEXT,\n",
    "        awards TEXT,\n",
    "        metascore INTEGER,\n",
    "        imdbRating REAL,\n",
    "        imdbVotes TEXT,\n",
    "        imdbID TEXT\n",
    "    )\n",
    "''')\n",
    "    conn.execute('INSERT INTO filmes VALUES (?, ?, ?, ?, ?, ?, ?, ?, ?, ?, ?, ?, ?, ?, ?, ?, ?)',\n",
    "             (movie_data['Title'], movie_data['Year'], movie_data['Rated'], movie_data['Released'], movie_data['Runtime'],\n",
    "              movie_data['Genre'], movie_data['Director'], movie_data['Writer'], movie_data['Actors'], movie_data['Plot'],\n",
    "              movie_data['Language'], movie_data['Country'], movie_data['Awards'], movie_data['Metascore'],\n",
    "              movie_data['imdbRating'], movie_data['imdbVotes'], movie_data['imdbID']))\n",
    "    conn.commit()\n",
    "    conn.close()"
   ]
  },
  {
   "cell_type": "markdown",
   "metadata": {},
   "source": [
    "* Pegar a chave da API"
   ]
  },
  {
   "cell_type": "code",
   "execution_count": 64,
   "metadata": {},
   "outputs": [
    {
     "name": "stdout",
     "output_type": "stream",
     "text": [
      "Procurando o filme \"Elementos\"... \n",
      "--------------------------------------------------\n",
      "Title: Reto 4 elementos: naturaleza extrema\n",
      "Year: 2018–\n",
      "Rated: N/A\n",
      "Released: 19 Mar 2018\n",
      "Runtime: N/A\n",
      "Genre: Action, Adventure, Family\n",
      "Director: N/A\n",
      "Writer: Grecia Feliciano Murrieta\n",
      "Actors: Montserrat Oliver, Adrian Di Monte, Cristián de la Fuente\n",
      "Plot: The show is mainly about a couple color groups competing in a variety of obstacles trying to not be eliminated which will take them out of the competition or punish their standings. The best group is set out to win and win a certa...\n",
      "Language: Spanish\n",
      "Country: Mexico\n",
      "Awards: 1 nomination\n",
      "Metascore: N/A\n",
      "imdbRating: 8.1\n",
      "imdbVotes: 35\n",
      "imdbID: tt8506878\n",
      "--------------------------------------------------\n"
     ]
    }
   ],
   "source": [
    "title = input('\\nDigite o nome do filme: ')\n",
    "if len(title) < 1 or title=='quit': \n",
    "    print(\"Não encontrado...\")\n",
    "else:\n",
    "    movie_data = search_movie(title)\n",
    "    if movie_data is not None:\n",
    "        save_in_database(movie_data)"
   ]
  }
 ],
 "metadata": {
  "kernelspec": {
   "display_name": "Python 3",
   "language": "python",
   "name": "python3"
  },
  "language_info": {
   "codemirror_mode": {
    "name": "ipython",
    "version": 3
   },
   "file_extension": ".py",
   "mimetype": "text/x-python",
   "name": "python",
   "nbconvert_exporter": "python",
   "pygments_lexer": "ipython3",
   "version": "3.11.0"
  },
  "orig_nbformat": 4
 },
 "nbformat": 4,
 "nbformat_minor": 2
}
