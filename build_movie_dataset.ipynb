{
 "cells": [
  {
   "cell_type": "markdown",
   "metadata": {},
   "source": [
    "* Importando os pecotess necessários"
   ]
  },
  {
   "cell_type": "code",
   "execution_count": 3,
   "metadata": {},
   "outputs": [],
   "source": [
    "import urllib, urllib.error\n",
    "from functions import save_in_database\n",
    "from urllib import parse\n",
    "import json\n",
    "import requests"
   ]
  },
  {
   "cell_type": "markdown",
   "metadata": {},
   "source": [
    "* Define uma função que recebe um dicionário JSON e imprime informações específicas desse dicionário, desde que essas informações correspondam às chaves especificadas na lista list_keys. Ele cria uma apresentação organizada das informações do filme, separadas por hifens, para facilitar a leitura e compreensão."
   ]
  },
  {
   "cell_type": "code",
   "execution_count": 4,
   "metadata": {},
   "outputs": [],
   "source": [
    "def print_json(json_data):\n",
    "    list_keys=['Title', 'Year', 'Rated', 'Released', 'Runtime', 'Genre', 'Director', 'Writer', \n",
    "               'Actors', 'Plot', 'Language', 'Country', 'Awards', 'Ratings', \n",
    "               'Metascore', 'imdbRating', 'imdbVotes', 'imdbID']\n",
    "    print(\"-\"*50)\n",
    "    for i in list_keys:\n",
    "        if i in list(json_data.keys()):\n",
    "            print(f\"{i}: {json_data[i]}\")\n",
    "    print(\"-\"*50)"
   ]
  },
  {
   "cell_type": "code",
   "execution_count": 10,
   "metadata": {},
   "outputs": [],
   "source": [
    "def search_movie(title):\n",
    "    if len(title) < 1 or title=='quit': \n",
    "        print(\"Não encontrado...\")\n",
    "        return \n",
    "\n",
    "    try:\n",
    "        title_url = parse.urlencode({'t': title})\n",
    "        api_key = ''\n",
    "        url = f'http://www.omdbapi.com/?{title_url}&apikey={api_key}'\n",
    "        print(f'Procurando o filme \"{title}\"... ')\n",
    "        uh = urllib.request.urlopen(url)\n",
    "        data = uh.read()\n",
    "        json_data=json.loads(data)\n",
    "        \n",
    "        if json_data['Response']=='True':\n",
    "            print_json(json_data)\n",
    "            save_database =input('Salvar o filme no banco de dados? Digite \"sim\" ou \"não\": ').lower()\n",
    "            if save_database =='sim':\n",
    "                save_in_database(json_data)\n",
    "        else:\n",
    "            print(\"Erro encontrado: \",json_data['Erro'])\n",
    "    \n",
    "    except urllib.error.URLError as e:\n",
    "        print(f\"ERROR: {e.reason}\")"
   ]
  },
  {
   "cell_type": "markdown",
   "metadata": {},
   "source": [
    "* Pegar a chave da API"
   ]
  },
  {
   "cell_type": "code",
   "execution_count": 11,
   "metadata": {},
   "outputs": [
    {
     "name": "stdout",
     "output_type": "stream",
     "text": [
      "Procurando o filme \"Barbie\"... \n",
      "--------------------------------------------------\n",
      "Title: Barbie\n",
      "Year: 2023\n",
      "Rated: PG-13\n",
      "Released: 21 Jul 2023\n",
      "Runtime: 114 min\n",
      "Genre: Adventure, Comedy, Fantasy\n",
      "Director: Greta Gerwig\n",
      "Writer: Greta Gerwig, Noah Baumbach\n",
      "Actors: Margot Robbie, Ryan Gosling, Issa Rae\n",
      "Plot: Barbie suffers a crisis that leads her to question her world and her existence.\n",
      "Language: English, Spanish\n",
      "Country: United States, United Kingdom\n",
      "Awards: 2 wins & 1 nomination\n",
      "Ratings: [{'Source': 'Internet Movie Database', 'Value': '7.4/10'}, {'Source': 'Rotten Tomatoes', 'Value': '88%'}, {'Source': 'Metacritic', 'Value': '80/100'}]\n",
      "Metascore: 80\n",
      "imdbRating: 7.4\n",
      "imdbVotes: 238,040\n",
      "imdbID: tt1517268\n",
      "--------------------------------------------------\n"
     ]
    }
   ],
   "source": [
    "title = input('\\nDigite o nome do filme: ')\n",
    "if len(title) < 1 or title=='quit': \n",
    "    print(\"Goodbye now...\")\n",
    "else:\n",
    "    search_movie(title)\n",
    "#response = requests.get(url)\n",
    "#print(response.json())"
   ]
  }
 ],
 "metadata": {
  "kernelspec": {
   "display_name": "Python 3",
   "language": "python",
   "name": "python3"
  },
  "language_info": {
   "codemirror_mode": {
    "name": "ipython",
    "version": 3
   },
   "file_extension": ".py",
   "mimetype": "text/x-python",
   "name": "python",
   "nbconvert_exporter": "python",
   "pygments_lexer": "ipython3",
   "version": "3.11.0"
  },
  "orig_nbformat": 4
 },
 "nbformat": 4,
 "nbformat_minor": 2
}
