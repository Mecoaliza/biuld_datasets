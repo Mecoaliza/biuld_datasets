{
 "cells": [
  {
   "cell_type": "markdown",
   "metadata": {},
   "source": [
    "* Importando os pecotess necessários"
   ]
  },
  {
   "cell_type": "code",
   "execution_count": 91,
   "metadata": {},
   "outputs": [],
   "source": [
    "import urllib, urllib.error\n",
    "from functions import save_in_database\n",
    "from urllib import parse\n",
    "import json\n",
    "import requests\n",
    "import sqlite3\n",
    "import pandas as pd"
   ]
  },
  {
   "cell_type": "markdown",
   "metadata": {},
   "source": [
    "* Define uma função que recebe um dicionário JSON e imprime informações específicas desse dicionário, desde que essas informações correspondam às chaves especificadas na lista list_keys. Ele cria uma apresentação organizada das informações do filme, separadas por hifens, para facilitar a leitura e compreensão."
   ]
  },
  {
   "cell_type": "code",
   "execution_count": 92,
   "metadata": {},
   "outputs": [],
   "source": [
    "def print_json(json_data):\n",
    "    list_keys=['Title', 'Year', 'Rated', 'Released', 'Runtime', 'Genre', 'Director', 'Writer', \n",
    "               'Actors', 'Plot', 'Language', 'Country', 'Awards', 'Ratings',\n",
    "               'Metascore', 'imdbRating', 'imdbVotes', 'imdbID']\n",
    "    print(\"-\"*50)\n",
    "    for i in list_keys:\n",
    "        if i in list(json_data.keys()):\n",
    "            print(f\"{i}: {json_data[i]}\")\n",
    "    print(\"-\"*50)"
   ]
  },
  {
   "cell_type": "code",
   "execution_count": 93,
   "metadata": {},
   "outputs": [],
   "source": [
    "def search_movie(title):\n",
    "    if len(title) < 1 or title=='quit': \n",
    "        print(\"Não encontrado...\")\n",
    "        return \n",
    "\n",
    "    try:\n",
    "        title_url = parse.urlencode({'t': title})\n",
    "        api_key = '9019e34'\n",
    "        url = f'http://www.omdbapi.com/?{title_url}&apikey={api_key}'\n",
    "        print(f'Procurando o filme \"{title}\"... ')\n",
    "        uh = urllib.request.urlopen(url)\n",
    "        data = uh.read()\n",
    "        json_data=json.loads(data)\n",
    "        \n",
    "        if json_data['Response']=='True':\n",
    "            print_json(json_data)\n",
    "            save_database =input('Salvar o filme no banco de dados? Digite \"sim\" ou \"não\": ').lower()\n",
    "            if save_database =='sim':\n",
    "                save_in_database(json_data)\n",
    "        else:\n",
    "            print(\"Erro encontrado: \",json_data['Erro'])\n",
    "    \n",
    "    except urllib.error.URLError as e:\n",
    "        print(f\"ERROR: {e.reason}\")"
   ]
  },
  {
   "cell_type": "code",
   "execution_count": 94,
   "metadata": {},
   "outputs": [],
   "source": [
    "def save_in_database(movie_data):\n",
    "    conn = sqlite3.connect('movies.db')\n",
    "    cur=conn.cursor()\n",
    "\n",
    "    cur.execute ('''CREATE TABLE IF NOT EXISTS filmes (\n",
    "        title TEXT,\n",
    "        year INTEGER,\n",
    "        rated TEXT,\n",
    "        released TEXT,\n",
    "        runtime TEXT,\n",
    "        genre TEXT,\n",
    "        director TEXT,\n",
    "        writer TEXT,\n",
    "        actors TEXT,\n",
    "        plot TEXT,\n",
    "        language TEXT,\n",
    "        country TEXT,\n",
    "        awards TEXT,\n",
    "        ratings TEXT,\n",
    "        metascore INTEGER,\n",
    "        imdbRating REAL,\n",
    "        imdbVotes TEXT,\n",
    "        imdbID TEXT\n",
    "    )\n",
    "''')\n",
    "\n",
    "    conn.execute('INSERT INTO filmes VALUES (?, ?, ?, ?, ?, ?, ?, ?, ?, ?, ?, ?, ?, ?, ?, ?, ?)',\n",
    "             (movie_data['Title'], movie_data['Year'], movie_data['Rated'], movie_data['Released'], movie_data['Runtime'],\n",
    "              movie_data['Genre'], movie_data['Director'], movie_data['Writer'], movie_data['Actors'], movie_data['Plot'],\n",
    "              movie_data['Language'], movie_data['Country'], movie_data['Awards'], movie_data['Ratings'], movie_data['Metascore'],\n",
    "              movie_data['imdbRating'], movie_data['imdbVotes'], movie_data['imdbID']))\n",
    "    conn.commit()\n",
    "    conn.close()"
   ]
  },
  {
   "cell_type": "markdown",
   "metadata": {},
   "source": [
    "* Pegar a chave da API"
   ]
  },
  {
   "cell_type": "code",
   "execution_count": 95,
   "metadata": {},
   "outputs": [
    {
     "name": "stdout",
     "output_type": "stream",
     "text": [
      "Procurando o filme \"Barbie\"... \n",
      "--------------------------------------------------\n",
      "Title: Barbie\n",
      "Year: 2023\n",
      "Rated: PG-13\n",
      "Released: 21 Jul 2023\n",
      "Runtime: 114 min\n",
      "Genre: Adventure, Comedy, Fantasy\n",
      "Director: Greta Gerwig\n",
      "Writer: Greta Gerwig, Noah Baumbach\n",
      "Actors: Margot Robbie, Ryan Gosling, Issa Rae\n",
      "Plot: Barbie suffers a crisis that leads her to question her world and her existence.\n",
      "Language: English, Spanish\n",
      "Country: United States, United Kingdom\n",
      "Awards: 2 wins & 1 nomination\n",
      "Ratings: [{'Source': 'Internet Movie Database', 'Value': '7.4/10'}, {'Source': 'Rotten Tomatoes', 'Value': '88%'}, {'Source': 'Metacritic', 'Value': '80/100'}]\n",
      "Metascore: 80\n",
      "imdbRating: 7.4\n",
      "imdbVotes: 238,040\n",
      "imdbID: tt1517268\n",
      "--------------------------------------------------\n"
     ]
    },
    {
     "ename": "OperationalError",
     "evalue": "table filmes has 18 columns but 17 values were supplied",
     "output_type": "error",
     "traceback": [
      "\u001b[1;31m---------------------------------------------------------------------------\u001b[0m",
      "\u001b[1;31mOperationalError\u001b[0m                          Traceback (most recent call last)",
      "\u001b[1;32mc:\\Users\\mecoa\\Documents\\GitHub\\biuld_datasets\\build_movie_dataset.ipynb Cell 8\u001b[0m line \u001b[0;36m5\n\u001b[0;32m      <a href='vscode-notebook-cell:/c%3A/Users/mecoa/Documents/GitHub/biuld_datasets/build_movie_dataset.ipynb#W6sZmlsZQ%3D%3D?line=2'>3</a>\u001b[0m     \u001b[39mprint\u001b[39m(\u001b[39m\"\u001b[39m\u001b[39mNão encontrado...\u001b[39m\u001b[39m\"\u001b[39m)\n\u001b[0;32m      <a href='vscode-notebook-cell:/c%3A/Users/mecoa/Documents/GitHub/biuld_datasets/build_movie_dataset.ipynb#W6sZmlsZQ%3D%3D?line=3'>4</a>\u001b[0m \u001b[39melse\u001b[39;00m:\n\u001b[1;32m----> <a href='vscode-notebook-cell:/c%3A/Users/mecoa/Documents/GitHub/biuld_datasets/build_movie_dataset.ipynb#W6sZmlsZQ%3D%3D?line=4'>5</a>\u001b[0m     movie_data \u001b[39m=\u001b[39m search_movie(title)\n\u001b[0;32m      <a href='vscode-notebook-cell:/c%3A/Users/mecoa/Documents/GitHub/biuld_datasets/build_movie_dataset.ipynb#W6sZmlsZQ%3D%3D?line=5'>6</a>\u001b[0m     \u001b[39mif\u001b[39;00m movie_data \u001b[39mis\u001b[39;00m \u001b[39mnot\u001b[39;00m \u001b[39mNone\u001b[39;00m:\n\u001b[0;32m      <a href='vscode-notebook-cell:/c%3A/Users/mecoa/Documents/GitHub/biuld_datasets/build_movie_dataset.ipynb#W6sZmlsZQ%3D%3D?line=6'>7</a>\u001b[0m         save_in_database(movie_data)\n",
      "\u001b[1;32mc:\\Users\\mecoa\\Documents\\GitHub\\biuld_datasets\\build_movie_dataset.ipynb Cell 8\u001b[0m line \u001b[0;36m1\n\u001b[0;32m     <a href='vscode-notebook-cell:/c%3A/Users/mecoa/Documents/GitHub/biuld_datasets/build_movie_dataset.ipynb#W6sZmlsZQ%3D%3D?line=16'>17</a>\u001b[0m     save_database \u001b[39m=\u001b[39m\u001b[39minput\u001b[39m(\u001b[39m'\u001b[39m\u001b[39mSalvar o filme no banco de dados? Digite \u001b[39m\u001b[39m\"\u001b[39m\u001b[39msim\u001b[39m\u001b[39m\"\u001b[39m\u001b[39m ou \u001b[39m\u001b[39m\"\u001b[39m\u001b[39mnão\u001b[39m\u001b[39m\"\u001b[39m\u001b[39m: \u001b[39m\u001b[39m'\u001b[39m)\u001b[39m.\u001b[39mlower()\n\u001b[0;32m     <a href='vscode-notebook-cell:/c%3A/Users/mecoa/Documents/GitHub/biuld_datasets/build_movie_dataset.ipynb#W6sZmlsZQ%3D%3D?line=17'>18</a>\u001b[0m     \u001b[39mif\u001b[39;00m save_database \u001b[39m==\u001b[39m\u001b[39m'\u001b[39m\u001b[39msim\u001b[39m\u001b[39m'\u001b[39m:\n\u001b[1;32m---> <a href='vscode-notebook-cell:/c%3A/Users/mecoa/Documents/GitHub/biuld_datasets/build_movie_dataset.ipynb#W6sZmlsZQ%3D%3D?line=18'>19</a>\u001b[0m         save_in_database(json_data)\n\u001b[0;32m     <a href='vscode-notebook-cell:/c%3A/Users/mecoa/Documents/GitHub/biuld_datasets/build_movie_dataset.ipynb#W6sZmlsZQ%3D%3D?line=19'>20</a>\u001b[0m \u001b[39melse\u001b[39;00m:\n\u001b[0;32m     <a href='vscode-notebook-cell:/c%3A/Users/mecoa/Documents/GitHub/biuld_datasets/build_movie_dataset.ipynb#W6sZmlsZQ%3D%3D?line=20'>21</a>\u001b[0m     \u001b[39mprint\u001b[39m(\u001b[39m\"\u001b[39m\u001b[39mErro encontrado: \u001b[39m\u001b[39m\"\u001b[39m,json_data[\u001b[39m'\u001b[39m\u001b[39mErro\u001b[39m\u001b[39m'\u001b[39m])\n",
      "\u001b[1;32mc:\\Users\\mecoa\\Documents\\GitHub\\biuld_datasets\\build_movie_dataset.ipynb Cell 8\u001b[0m line \u001b[0;36m2\n\u001b[0;32m      <a href='vscode-notebook-cell:/c%3A/Users/mecoa/Documents/GitHub/biuld_datasets/build_movie_dataset.ipynb#W6sZmlsZQ%3D%3D?line=2'>3</a>\u001b[0m     cur\u001b[39m=\u001b[39mconn\u001b[39m.\u001b[39mcursor()\n\u001b[0;32m      <a href='vscode-notebook-cell:/c%3A/Users/mecoa/Documents/GitHub/biuld_datasets/build_movie_dataset.ipynb#W6sZmlsZQ%3D%3D?line=4'>5</a>\u001b[0m     cur\u001b[39m.\u001b[39mexecute (\u001b[39m'''\u001b[39m\u001b[39mCREATE TABLE IF NOT EXISTS filmes (\u001b[39m\n\u001b[0;32m      <a href='vscode-notebook-cell:/c%3A/Users/mecoa/Documents/GitHub/biuld_datasets/build_movie_dataset.ipynb#W6sZmlsZQ%3D%3D?line=5'>6</a>\u001b[0m \u001b[39m        title TEXT,\u001b[39m\n\u001b[0;32m      <a href='vscode-notebook-cell:/c%3A/Users/mecoa/Documents/GitHub/biuld_datasets/build_movie_dataset.ipynb#W6sZmlsZQ%3D%3D?line=6'>7</a>\u001b[0m \u001b[39m        year INTEGER,\u001b[39m\n\u001b[1;32m   (...)\u001b[0m\n\u001b[0;32m     <a href='vscode-notebook-cell:/c%3A/Users/mecoa/Documents/GitHub/biuld_datasets/build_movie_dataset.ipynb#W6sZmlsZQ%3D%3D?line=23'>24</a>\u001b[0m \u001b[39m    )\u001b[39m\n\u001b[0;32m     <a href='vscode-notebook-cell:/c%3A/Users/mecoa/Documents/GitHub/biuld_datasets/build_movie_dataset.ipynb#W6sZmlsZQ%3D%3D?line=24'>25</a>\u001b[0m \u001b[39m'''\u001b[39m)\n\u001b[1;32m---> <a href='vscode-notebook-cell:/c%3A/Users/mecoa/Documents/GitHub/biuld_datasets/build_movie_dataset.ipynb#W6sZmlsZQ%3D%3D?line=26'>27</a>\u001b[0m     conn\u001b[39m.\u001b[39;49mexecute(\u001b[39m'\u001b[39;49m\u001b[39mINSERT INTO filmes VALUES (?, ?, ?, ?, ?, ?, ?, ?, ?, ?, ?, ?, ?, ?, ?, ?, ?)\u001b[39;49m\u001b[39m'\u001b[39;49m,\n\u001b[0;32m     <a href='vscode-notebook-cell:/c%3A/Users/mecoa/Documents/GitHub/biuld_datasets/build_movie_dataset.ipynb#W6sZmlsZQ%3D%3D?line=27'>28</a>\u001b[0m              (movie_data[\u001b[39m'\u001b[39;49m\u001b[39mTitle\u001b[39;49m\u001b[39m'\u001b[39;49m], movie_data[\u001b[39m'\u001b[39;49m\u001b[39mYear\u001b[39;49m\u001b[39m'\u001b[39;49m], movie_data[\u001b[39m'\u001b[39;49m\u001b[39mRated\u001b[39;49m\u001b[39m'\u001b[39;49m], movie_data[\u001b[39m'\u001b[39;49m\u001b[39mReleased\u001b[39;49m\u001b[39m'\u001b[39;49m], movie_data[\u001b[39m'\u001b[39;49m\u001b[39mRuntime\u001b[39;49m\u001b[39m'\u001b[39;49m],\n\u001b[0;32m     <a href='vscode-notebook-cell:/c%3A/Users/mecoa/Documents/GitHub/biuld_datasets/build_movie_dataset.ipynb#W6sZmlsZQ%3D%3D?line=28'>29</a>\u001b[0m               movie_data[\u001b[39m'\u001b[39;49m\u001b[39mGenre\u001b[39;49m\u001b[39m'\u001b[39;49m], movie_data[\u001b[39m'\u001b[39;49m\u001b[39mDirector\u001b[39;49m\u001b[39m'\u001b[39;49m], movie_data[\u001b[39m'\u001b[39;49m\u001b[39mWriter\u001b[39;49m\u001b[39m'\u001b[39;49m], movie_data[\u001b[39m'\u001b[39;49m\u001b[39mActors\u001b[39;49m\u001b[39m'\u001b[39;49m], movie_data[\u001b[39m'\u001b[39;49m\u001b[39mPlot\u001b[39;49m\u001b[39m'\u001b[39;49m],\n\u001b[0;32m     <a href='vscode-notebook-cell:/c%3A/Users/mecoa/Documents/GitHub/biuld_datasets/build_movie_dataset.ipynb#W6sZmlsZQ%3D%3D?line=29'>30</a>\u001b[0m               movie_data[\u001b[39m'\u001b[39;49m\u001b[39mLanguage\u001b[39;49m\u001b[39m'\u001b[39;49m], movie_data[\u001b[39m'\u001b[39;49m\u001b[39mCountry\u001b[39;49m\u001b[39m'\u001b[39;49m], movie_data[\u001b[39m'\u001b[39;49m\u001b[39mAwards\u001b[39;49m\u001b[39m'\u001b[39;49m], movie_data[\u001b[39m'\u001b[39;49m\u001b[39mRatings\u001b[39;49m\u001b[39m'\u001b[39;49m], movie_data[\u001b[39m'\u001b[39;49m\u001b[39mMetascore\u001b[39;49m\u001b[39m'\u001b[39;49m],\n\u001b[0;32m     <a href='vscode-notebook-cell:/c%3A/Users/mecoa/Documents/GitHub/biuld_datasets/build_movie_dataset.ipynb#W6sZmlsZQ%3D%3D?line=30'>31</a>\u001b[0m               movie_data[\u001b[39m'\u001b[39;49m\u001b[39mimdbRating\u001b[39;49m\u001b[39m'\u001b[39;49m], movie_data[\u001b[39m'\u001b[39;49m\u001b[39mimdbVotes\u001b[39;49m\u001b[39m'\u001b[39;49m], movie_data[\u001b[39m'\u001b[39;49m\u001b[39mimdbID\u001b[39;49m\u001b[39m'\u001b[39;49m]))\n\u001b[0;32m     <a href='vscode-notebook-cell:/c%3A/Users/mecoa/Documents/GitHub/biuld_datasets/build_movie_dataset.ipynb#W6sZmlsZQ%3D%3D?line=31'>32</a>\u001b[0m     conn\u001b[39m.\u001b[39mcommit()\n\u001b[0;32m     <a href='vscode-notebook-cell:/c%3A/Users/mecoa/Documents/GitHub/biuld_datasets/build_movie_dataset.ipynb#W6sZmlsZQ%3D%3D?line=32'>33</a>\u001b[0m     conn\u001b[39m.\u001b[39mclose()\n",
      "\u001b[1;31mOperationalError\u001b[0m: table filmes has 18 columns but 17 values were supplied"
     ]
    }
   ],
   "source": [
    "title = input('\\nDigite o nome do filme: ')\n",
    "if len(title) < 1 or title=='quit': \n",
    "    print(\"Não encontrado...\")\n",
    "else:\n",
    "    movie_data = search_movie(title)\n",
    "    if movie_data is not None:\n",
    "        save_in_database(movie_data)"
   ]
  }
 ],
 "metadata": {
  "kernelspec": {
   "display_name": "Python 3",
   "language": "python",
   "name": "python3"
  },
  "language_info": {
   "codemirror_mode": {
    "name": "ipython",
    "version": 3
   },
   "file_extension": ".py",
   "mimetype": "text/x-python",
   "name": "python",
   "nbconvert_exporter": "python",
   "pygments_lexer": "ipython3",
   "version": "3.11.0"
  },
  "orig_nbformat": 4
 },
 "nbformat": 4,
 "nbformat_minor": 2
}
